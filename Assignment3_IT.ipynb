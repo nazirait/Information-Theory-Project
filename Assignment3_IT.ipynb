{
 "cells": [
  {
   "cell_type": "markdown",
   "metadata": {},
   "source": [
    "### Assignment 3 | Shannon-Fano Algorithm"
   ]
  },
  {
   "cell_type": "code",
   "execution_count": 1,
   "metadata": {},
   "outputs": [
    {
     "data": {
      "text/plain": [
       "['Submission']"
      ]
     },
     "execution_count": 1,
     "metadata": {},
     "output_type": "execute_result"
    }
   ],
   "source": [
    "def reads(file):\n",
    "    '''The given function reads only txt file and returns the list with words in that file'''\n",
    "    # Checking if the text is txt format\n",
    "    if file.endswith('.txt'):\n",
    "        # Open the text\n",
    "        f = open(file)\n",
    "        # reading the file\n",
    "        reading = f.readlines()\n",
    "        # Closing the file\n",
    "        f.close()\n",
    "        # returning the list with words\n",
    "        return reading\n",
    "    else:\n",
    "        return 'It should be txt file'\n",
    "work_list = reads('vil.txt')\n",
    "work_list"
   ]
  },
  {
   "cell_type": "code",
   "execution_count": 2,
   "metadata": {},
   "outputs": [
    {
     "name": "stdout",
     "output_type": "stream",
     "text": [
      "{'S': 1, 'u': 1, 'b': 1, 'm': 1, 'i': 2, 's': 2, 'o': 1, 'n': 1}\n"
     ]
    }
   ],
   "source": [
    "def occurence(lists):\n",
    "    '''The given function works with lists and returns the dictionary with the frequency of the characters'''\n",
    "    # Checking if the variable is list format\n",
    "    if isinstance(lists,list):\n",
    "        # creating dict variable for dictionary\n",
    "        dictionary = {}\n",
    "        for x in lists:\n",
    "            # getting the separate characters from the words\n",
    "            character = list(x)\n",
    "            # counting the characters by their appearence\n",
    "            for char in character:\n",
    "                if char in dictionary:\n",
    "                    dictionary[char]+=1\n",
    "                else:\n",
    "                    dictionary[char]=1\n",
    "        # returning the dictionary variable\n",
    "        return dictionary\n",
    "    else:\n",
    "        return 'It should be list'\n",
    "dicts = occurence(work_list)\n",
    "print(dicts)"
   ]
  },
  {
   "cell_type": "code",
   "execution_count": 3,
   "metadata": {},
   "outputs": [
    {
     "name": "stdout",
     "output_type": "stream",
     "text": [
      "10\n",
      "S - 0.1\n"
     ]
    }
   ],
   "source": [
    "def probability(dictionary,symbol = None):\n",
    "    '''The given function returns the probability of a character specified as a 'symbol' parameter'''\n",
    "    if dictionary.get(symbol)!=None:\n",
    "        sums = sum(dictionary.values())\n",
    "        print(sums)\n",
    "        for key,value in dictionary.items():\n",
    "            if symbol==key:\n",
    "                prob = round(value/sums,4)\n",
    "                print(key,'-',prob)\n",
    "    else:\n",
    "        sums = sum(dictionary.values())\n",
    "        for key,value in dictionary.items():\n",
    "            prob = round(value/sums,4)\n",
    "            print(key,' - ',prob)\n",
    "probabilities_tuple = probability(dicts,'S')"
   ]
  },
  {
   "cell_type": "code",
   "execution_count": 4,
   "metadata": {},
   "outputs": [],
   "source": [
    "def probability(dictionary):\n",
    "    '''The given function returns the probability of characters which divides\n",
    "    the values of characters by the overall character sum'''\n",
    "    # checking whether variable is dict format\n",
    "    lists = []\n",
    "    if isinstance(dictionary,dict):\n",
    "        # getting the overall frequency of characters\n",
    "        sums = sum(dictionary.values())\n",
    "        # working with keys and values of dictionary\n",
    "        for key,value in dictionary.items():\n",
    "            # getting the probability\n",
    "            prob = round(value/sums,4)\n",
    "            # appending the probabilities\n",
    "            lists.append((key,prob))\n",
    "        return lists\n",
    "    else:\n",
    "        return ('It should be in dictionary format')\n",
    "probabilities_list = probability(dicts)\n"
   ]
  },
  {
   "cell_type": "code",
   "execution_count": 5,
   "metadata": {},
   "outputs": [
    {
     "data": {
      "text/plain": [
       "[('i', 0.2),\n",
       " ('s', 0.2),\n",
       " ('S', 0.1),\n",
       " ('u', 0.1),\n",
       " ('b', 0.1),\n",
       " ('m', 0.1),\n",
       " ('o', 0.1),\n",
       " ('n', 0.1)]"
      ]
     },
     "execution_count": 5,
     "metadata": {},
     "output_type": "execute_result"
    }
   ],
   "source": [
    "def sorted_prob(lists):\n",
    "    '''The given function sorts and displays the elements \n",
    "    (probability values) in descending order'''\n",
    "    # sorting the elements in descending order\n",
    "    desc = sorted(lists,key = lambda x: x[1],reverse = True)\n",
    "    # showing the result\n",
    "    return desc\n",
    "result = sorted_prob(probabilities_list)\n",
    "result"
   ]
  },
  {
   "cell_type": "code",
   "execution_count": 8,
   "metadata": {},
   "outputs": [
    {
     "data": {
      "text/plain": [
       "(0.5, ['i', 's', 'S'], 0.5, ['u', 'b', 'm', 'o', 'n'])"
      ]
     },
     "execution_count": 8,
     "metadata": {},
     "output_type": "execute_result"
    }
   ],
   "source": [
    "def divide_parts(lists):\n",
    "    '''The given function divides the list into two parts with the equal \n",
    "        sum of occurences on the right and left parts'''\n",
    "    sums_left = 0\n",
    "    left = []\n",
    "    sums_right = 0\n",
    "    right = []\n",
    "    for x,y in lists:\n",
    "        # sum the probabilities of the elements\n",
    "        sums_left+=y\n",
    "        # store to the list 'left'\n",
    "        left.append(x) \n",
    "        if sums_left>=0.5:\n",
    "            break # stop when the sum is 0.5 or more\n",
    "    for x,y in lists:\n",
    "        if x not in left:\n",
    "            # sum the probabilities of the elements (excluding those in the 'left' list)\n",
    "            sums_right+=y \n",
    "            # store to the list 'left'\n",
    "            right.append(x)\n",
    "    # return the characters and sum of the probabilies on both sides (right and left) \n",
    "    return sums_left,left,sums_right,right\n",
    "\n",
    "balance = divide_parts(result)\n",
    "balance"
   ]
  },
  {
   "cell_type": "code",
   "execution_count": 9,
   "metadata": {},
   "outputs": [
    {
     "name": "stdout",
     "output_type": "stream",
     "text": [
      "Left avg:  0.16666666666666666\n",
      "Right avg:  0.1\n"
     ]
    },
    {
     "data": {
      "text/plain": [
       "([('i', '00'), ('s', '00')],\n",
       " [('S', '01')],\n",
       " [('u', '10'), ('b', '10'), ('m', '10'), ('o', '10'), ('n', '10')],\n",
       " [])"
      ]
     },
     "execution_count": 9,
     "metadata": {},
     "output_type": "execute_result"
    }
   ],
   "source": [
    "def encoding(lists_desc,list_balance):\n",
    "    '''The given function labels the left part \n",
    "        as 0 and the right part as 1'''\n",
    "    prob_left,word_left,prob_right,word_right = list_balance\n",
    "    symbols_left = '0'\n",
    "    symbols_right = '1'\n",
    "    symbols_for_lleft = []\n",
    "    mean_left = (prob_left/len(word_left)) \n",
    "    print('Left avg: ', mean_left)\n",
    "    mean_right = (prob_right/len(word_right))\n",
    "    print('Right avg: ', mean_right)\n",
    "    sums_left= 0\n",
    "    sums_right = 0\n",
    "    symbols_for_lright = []\n",
    "    count = 0\n",
    "    symbols_for_rleft = []\n",
    "    symbols_for_rright = []\n",
    "    # left part\n",
    "    for x in word_left:\n",
    "        for key,value in lists_desc:\n",
    "            if key in x:\n",
    "                sums_left+=value\n",
    "                # if the probability value is greater or equal than the left average (0.16)\n",
    "                if sums_left>=mean_left:\n",
    "                    symbols_left+='0' # assign those elements as 0 --> 00\n",
    "                    # store the key and the encoded part into LeftLeft list\n",
    "                    symbols_for_lleft.append((key,symbols_left)) \n",
    "                    break\n",
    "                else:\n",
    "                    # assign those elements as 1 --> 01\n",
    "                    symbols_left+='1'\n",
    "                    # store the key and the encoded part into leftRight list\n",
    "                    symbols_for_lright.append((key,symbols_left))\n",
    "            # ex.: i,s goes to the leftleft - 00, S goes to the leftright - 01\n",
    "            sums_left = 0\n",
    "            symbols_left='0'\n",
    "    # right part\n",
    "    for x in word_right:\n",
    "        for key,value in lists_desc:\n",
    "            if key in x:\n",
    "                symbols_right = '1'\n",
    "                sums_right+=value\n",
    "                # if the probability value is greater or equal than the right average (0.1)\n",
    "                if sums_right>=mean_right:\n",
    "                    symbols_right+='0' # assign those elements as 0 --> 10\n",
    "                    # store the key and the encoded part into rightLeft list\n",
    "                    symbols_for_rleft.append((key,symbols_right))\n",
    "                    break\n",
    "                else:\n",
    "                    count+=1\n",
    "                    # label those elements as '1' --> 11 \n",
    "                    symbols_right+='1'\n",
    "                    # store the key and the encoded part into rightRight list\n",
    "                    symbols_for_rright.append((key,symbols_right))\n",
    "            # ex.: all the elements in the right has the prob values of 0.1, so all are labeled as '10'  \n",
    "            sums_right=0\n",
    "\n",
    "    return symbols_for_lleft,symbols_for_lright,symbols_for_rleft,symbols_for_rright\n",
    "encoder = encoding(result,balance)\n",
    "encoder"
   ]
  },
  {
   "cell_type": "code",
   "execution_count": 17,
   "metadata": {},
   "outputs": [
    {
     "data": {
      "text/plain": [
       "[('i', 0.2, '00'),\n",
       " ('s', 0.2, '00'),\n",
       " ('S', 0.1, '01'),\n",
       " ('u', 0.1, '10'),\n",
       " ('b', 0.1, '10'),\n",
       " ('m', 0.1, '10'),\n",
       " ('o', 0.1, '10'),\n",
       " ('n', 0.1, '10')]"
      ]
     },
     "execution_count": 17,
     "metadata": {},
     "output_type": "execute_result"
    }
   ],
   "source": [
    "def adding(probabilities,code):\n",
    "    '''The given function returns the list with symbols and their\n",
    "    codewords sorted by their probabilities in descending order'''\n",
    "    result = []\n",
    "    symbols_lleft,symbols_lright,symbols_rleft,symbols_rright = code\n",
    "    for key,value in probabilities:\n",
    "        for key1,value1 in symbols_lleft: # s, i - 00\n",
    "            if key in key1:\n",
    "                result.append((key,value,value1))\n",
    "    for key,value in probabilities:\n",
    "        for key1,value1 in symbols_lright:  # S - 01\n",
    "            if key in key1:\n",
    "                result.append((key,value,value1))\n",
    "    for key,value in probabilities:\n",
    "        for key1,value1 in symbols_rleft: # u,b,m,o,n - 10\n",
    "            if key in key1:\n",
    "                result.append((key,value,value1))\n",
    "    for key,value in probabilities:\n",
    "        for key1,value1 in symbols_rright:\n",
    "            if key in key1:\n",
    "                result.append((key,value,value1))\n",
    "    return result\n",
    "third_function = adding(result,encoder)\n",
    "third_function"
   ]
  },
  {
   "cell_type": "code",
   "execution_count": 25,
   "metadata": {},
   "outputs": [
    {
     "data": {
      "text/plain": [
       "['S', 'u', 'b', 'm', 'i', 's', 's', 'i', 'o', 'n']"
      ]
     },
     "execution_count": 25,
     "metadata": {},
     "output_type": "execute_result"
    }
   ],
   "source": [
    "def split_text(text):\n",
    "    '''The given function splits the text into separate characters'''\n",
    "    f = open(text)\n",
    "    # reading the file\n",
    "    new_list = []\n",
    "    reading = f.readlines()\n",
    "    for x in reading:\n",
    "        list_x = list(x)\n",
    "        for d in list_x:\n",
    "            new_list.append(d)\n",
    "    return new_list\n",
    "    # Closing the file\n",
    "    f.close()\n",
    "res = split_text('vil.txt')\n",
    "res"
   ]
  },
  {
   "cell_type": "code",
   "execution_count": 19,
   "metadata": {},
   "outputs": [
    {
     "data": {
      "text/plain": [
       "'01101010000000001010'"
      ]
     },
     "execution_count": 19,
     "metadata": {},
     "output_type": "execute_result"
    }
   ],
   "source": [
    "def code_replacement(symbols,lists):\n",
    "    '''The given function returns the encoded part (a sequence of binary digits)\n",
    "        and saves the result into new txt file'''\n",
    "    symbols_lleft,symbols_lright,symbols_rleft,symbols_rright = symbols\n",
    "    resultant = []\n",
    "    new_string = []\n",
    "    for key,value in symbols_lleft:\n",
    "            for i,x in enumerate(lists):\n",
    "                if key==x:\n",
    "                    lists[i] = value\n",
    "                else:\n",
    "                    continue \n",
    "    for key,value in symbols_lright:\n",
    "            for i,x in enumerate(lists):\n",
    "                if key==x:\n",
    "                    lists[i] = value\n",
    "                else:\n",
    "                    continue\n",
    "    for key,value in symbols_rleft:\n",
    "            for i,x in enumerate(lists):\n",
    "                if key==x:\n",
    "                    lists[i] = value\n",
    "                else:\n",
    "                    continue \n",
    "    for key,value in symbols_rright:\n",
    "            for i,x in enumerate(lists):\n",
    "                if key==x:\n",
    "                    lists[i] = value\n",
    "                else:\n",
    "                    continue \n",
    "    encoded_variant = ''.join(lists)\n",
    "    file = open('new_file.txt','w')\n",
    "    file.write(encoded_variant)\n",
    "    file.close()\n",
    "    return encoded_variant\n",
    "encoded = code_replacement(encoder,res)\n",
    "encoded"
   ]
  },
  {
   "cell_type": "code",
   "execution_count": 21,
   "metadata": {},
   "outputs": [
    {
     "name": "stdout",
     "output_type": "stream",
     "text": [
      "Number of bits in original text:  70\n",
      "Number of bits in compressed text:  20\n",
      "Compression ratio:  3.5\n",
      "Average ratio:  1.9999999999999998\n"
     ]
    }
   ],
   "source": [
    "def compress_ratio(dicte,comp_string,probs):\n",
    "    '''The given function calculates data compression ratio'''\n",
    "    original_string = sum(dicte.values())*7\n",
    "    comp_string_len = len(comp_string)\n",
    "    sums = 0\n",
    "    for key,prob,code in probs:\n",
    "        sums+=prob*len(code)\n",
    "    print('Number of bits in original text: ',original_string)\n",
    "    print('Number of bits in compressed text: ', comp_string_len)\n",
    "    print('Compression ratio: ',original_string/comp_string_len)\n",
    "    print('Average ratio: ', sums)\n",
    "res = compress_ratio(dicts, encoded,third_function)\n",
    "res"
   ]
  },
  {
   "cell_type": "code",
   "execution_count": null,
   "metadata": {},
   "outputs": [],
   "source": []
  }
 ],
 "metadata": {
  "kernelspec": {
   "display_name": "Python 3",
   "language": "python",
   "name": "python3"
  },
  "language_info": {
   "codemirror_mode": {
    "name": "ipython",
    "version": 3
   },
   "file_extension": ".py",
   "mimetype": "text/x-python",
   "name": "python",
   "nbconvert_exporter": "python",
   "pygments_lexer": "ipython3",
   "version": "3.8.3"
  }
 },
 "nbformat": 4,
 "nbformat_minor": 4
}
