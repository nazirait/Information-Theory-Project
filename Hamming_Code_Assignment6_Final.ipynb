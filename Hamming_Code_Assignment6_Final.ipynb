{
 "cells": [
  {
   "cell_type": "markdown",
   "metadata": {},
   "source": [
    "## Assignment 6 | Hamming Code | Nazira T. & Bakhtiyar R."
   ]
  },
  {
   "cell_type": "markdown",
   "metadata": {},
   "source": [
    "Reading the file with the sequence of bits"
   ]
  },
  {
   "cell_type": "code",
   "execution_count": 10,
   "metadata": {},
   "outputs": [
    {
     "data": {
      "text/plain": [
       "'0101010110100111010110'"
      ]
     },
     "execution_count": 10,
     "metadata": {},
     "output_type": "execute_result"
    }
   ],
   "source": [
    "def decoded_text(texts):\n",
    "    '''The given function reads sequence of bits'''\n",
    "    # Checking if the text is txt format\n",
    "    f = open(texts)\n",
    "    # reading the file\n",
    "    reading = f.read()\n",
    "    # Closing the file\n",
    "    f.close()\n",
    "    # returning the words\n",
    "    return reading\n",
    "decoder = decoded_text('q1_file.txt')\n",
    "decoder"
   ]
  },
  {
   "cell_type": "code",
   "execution_count": 11,
   "metadata": {},
   "outputs": [
    {
     "name": "stdout",
     "output_type": "stream",
     "text": [
      "11 data bits:  ['01010101101', '00111010110']\n",
      "4 data bits: ['0101', '0101', '1010', '0111', '0101', '1000']\n"
     ]
    }
   ],
   "source": [
    "def separator(string,num):\n",
    "    '''The following function separates the bits into a specified number of bits'''\n",
    "    string = list(string)\n",
    "    count = 0\n",
    "    strings = []\n",
    "    words = ''\n",
    "    for x in string:\n",
    "        words+=x\n",
    "        count+=1\n",
    "        if count%num==0:\n",
    "            strings.append(words)\n",
    "            words = ''\n",
    "    if words!='':\n",
    "        while count%num!=0:\n",
    "            words+='0'\n",
    "            count+=1\n",
    "        strings.append(words)\n",
    "    return strings\n",
    "separators = separator(decoder,11)\n",
    "separators2 = separator(decoder,4)\n",
    "print('11 data bits: ', separators)\n",
    "print('4 data bits:', separators2)"
   ]
  },
  {
   "cell_type": "markdown",
   "metadata": {},
   "source": [
    "### Hamming Code (15,11)"
   ]
  },
  {
   "cell_type": "code",
   "execution_count": 3,
   "metadata": {},
   "outputs": [
    {
     "name": "stdout",
     "output_type": "stream",
     "text": [
      "[[None, None, None, 0, None, 1, 0, 1, None, 0, 1, 0, 1, 1, 0, 1], [None, None, None, 0, None, 0, 1, 1, None, 1, 0, 1, 0, 1, 1, 0]]\n"
     ]
    }
   ],
   "source": [
    "def create_list(strings):\n",
    "    '''Creating the list from the bit strings'''\n",
    "    results = []\n",
    "    for x in strings:\n",
    "        list_of_bits = list(x)\n",
    "        length = len(list_of_bits)\n",
    "        # turning the list data into integer\n",
    "        for x in range(length):\n",
    "            list_of_bits[x] = int(list_of_bits[x])\n",
    "    # appending the none values to the bits\n",
    "        list_of_bits.insert(0,None)\n",
    "        list_of_bits.insert(1,None)\n",
    "        list_of_bits.insert(2,None)\n",
    "        list_of_bits.insert(4,None)\n",
    "        list_of_bits.insert(8,None)\n",
    "        results.append(list_of_bits)\n",
    "    return results\n",
    "lists = create_list(separators)\n",
    "print(lists)"
   ]
  },
  {
   "cell_type": "code",
   "execution_count": 4,
   "metadata": {},
   "outputs": [
    {
     "data": {
      "text/plain": [
       "[[0, 0, 1, 0, 1, 1, 0, 1, 0, 0, 1, 0, 1, 1, 0, 1],\n",
       " [0, 0, 0, 0, 0, 0, 1, 1, 0, 1, 0, 1, 0, 1, 1, 0]]"
      ]
     },
     "execution_count": 4,
     "metadata": {},
     "output_type": "execute_result"
    }
   ],
   "source": [
    "def HammingEncode(bits):\n",
    "    '''The given function returns extended hamming code'''\n",
    "    for bites in bits:\n",
    "    # adding the values to the list by specific columns and rows\n",
    "        value_1 = bites[3] + bites[5] + bites[7] + bites[9] + bites[11] + bites[13] + bites[15]\n",
    "        value_2 = bites[3] + bites[6] + bites[7] + bites[10] + bites[11] + bites[14] + bites[15]\n",
    "        value_4 = bites[5] + bites[6] + bites[7] + bites[12] + bites[13] + bites[14] + bites[15]\n",
    "        value_8 = bites[9] + bites[10] + bites[11] + bites[12] + bites[13] + bites[14] + bites[15]\n",
    "        # if the sum is even\n",
    "        if value_1%2 != 0:\n",
    "            bites[1] = 1\n",
    "        else:\n",
    "            bites[1] = 0\n",
    "        if value_2%2!=0:\n",
    "            bites[2] = 1\n",
    "        else:\n",
    "            bites[2] = 0\n",
    "        if value_4%2!=0:\n",
    "            bites[4] = 1\n",
    "        else:\n",
    "            bites[4] = 0\n",
    "        if value_8%2!=0:\n",
    "            bites[8] = 1\n",
    "        else: \n",
    "            bites[8] = 0\n",
    "        if bits.count(1)%2==0:\n",
    "            bites[0] = 0\n",
    "        else:\n",
    "            bites[0] = 1\n",
    "    return bits\n",
    "list_of_hamm = HammingEncode(lists)\n",
    "list_of_hamm"
   ]
  },
  {
   "cell_type": "code",
   "execution_count": 5,
   "metadata": {},
   "outputs": [
    {
     "name": "stdout",
     "output_type": "stream",
     "text": [
      "00101101001011010000001101010110\n"
     ]
    }
   ],
   "source": [
    "def add_save(list_of_bits):\n",
    "    '''The given function returns the bitstrings after Hamming Coding and save the result in new txt file'''\n",
    "    # turning the list data into string type\n",
    "    for x in range(len(list_of_bits)):\n",
    "        list_of_bits[x] = [str(x) for x in list_of_bits[x]]\n",
    "    # joining the results into one string\n",
    "    bitstring = ''\n",
    "    for x in list_of_bits:\n",
    "        for values in x:\n",
    "            bitstring+=values\n",
    "    file = open('hamm.txt','w')\n",
    "    file.write(bitstring)\n",
    "    file.close()\n",
    "    return bitstring\n",
    "bit = add_save(list_of_hamm)\n",
    "print(bit)"
   ]
  },
  {
   "cell_type": "markdown",
   "metadata": {},
   "source": [
    "### Hamming Code (7,4)"
   ]
  },
  {
   "cell_type": "code",
   "execution_count": 6,
   "metadata": {},
   "outputs": [
    {
     "name": "stdout",
     "output_type": "stream",
     "text": [
      "4-bits elements\n",
      "Number of blocks:  6\n",
      "['0101', '0101', '1010', '0111', '0101', '1000']\n"
     ]
    }
   ],
   "source": [
    "print('4-bits elements')\n",
    "print('Number of blocks: ', len(separators2))\n",
    "print(separators2)"
   ]
  },
  {
   "cell_type": "code",
   "execution_count": 7,
   "metadata": {},
   "outputs": [
    {
     "name": "stdout",
     "output_type": "stream",
     "text": [
      "List of bits:  ['00000101', '00000101', '00010010', '00000111', '00000101', '00010000']\n",
      "[0, 0, 0, 0, 0, 1, 0, 1]\n",
      "[0, 0, 0, 0, 0, 1, 0, 1]\n",
      "[0, 0, 0, 1, 0, 0, 1, 0]\n",
      "[0, 0, 0, 0, 0, 1, 1, 1]\n",
      "[0, 0, 0, 0, 0, 1, 0, 1]\n",
      "[0, 0, 0, 1, 0, 0, 0, 0]\n"
     ]
    }
   ],
   "source": [
    "# 8 bit codeword (adding parity bits)\n",
    "parityBits = '0'\n",
    "dataBlocks = []\n",
    "for i in separators2:\n",
    "    bits1 = 3 * parityBits + i[0] + parityBits + i[1:4]\n",
    "    dataBlocks.append(bits1)\n",
    "print('List of bits: ', dataBlocks)\n",
    "\n",
    "for i in dataBlocks:\n",
    "        listOfBits = list(i)\n",
    "        listOfBits = [int(x) for x in listOfBits]\n",
    "        print(listOfBits)"
   ]
  },
  {
   "cell_type": "code",
   "execution_count": 8,
   "metadata": {},
   "outputs": [
    {
     "name": "stdout",
     "output_type": "stream",
     "text": [
      "block 1 : [1, 0, 1, 0, 0, 1, 0, 1]\n",
      "block 2 : [1, 0, 1, 0, 0, 1, 0, 1]\n",
      "block 3 : [0, 1, 0, 1, 1, 0, 1, 0]\n",
      "block 4 : [0, 0, 0, 0, 1, 1, 1, 1]\n",
      "block 5 : [1, 0, 1, 0, 0, 1, 0, 1]\n",
      "block 6 : [1, 1, 1, 1, 0, 0, 0, 0]\n"
     ]
    }
   ],
   "source": [
    "def HammingEncode2(bitString):\n",
    "    '''The following function returns the 8-bit codeword for all data blocks'''\n",
    "    encoded_list = []\n",
    "    for i in bitString:\n",
    "        blocks = list(i)\n",
    "        blocks = [int(x) for x in blocks]\n",
    "        \n",
    "        for x in blocks:\n",
    "            blocks[1] = blocks[3] + blocks[5] + blocks[7]\n",
    "            blocks[2] = blocks[3] + blocks[6] + blocks[7]\n",
    "            blocks[4] = blocks[5] + blocks[6] + blocks[7]\n",
    "            blocks[0] = sum(blocks[1:])\n",
    "        \n",
    "        for x in (0,1,2,4):\n",
    "            if blocks[x] % 2 == 0:\n",
    "                blocks[x] = 0\n",
    "            else:\n",
    "                blocks[x] = 1\n",
    "        \n",
    "        encoded_list.append(blocks)\n",
    "    return encoded_list\n",
    "encoded = HammingEncode2(dataBlocks)\n",
    "for x in range(0,len(encoded)):\n",
    "    print('block', x + 1, ':', encoded[x])"
   ]
  },
  {
   "cell_type": "code",
   "execution_count": 9,
   "metadata": {},
   "outputs": [
    {
     "data": {
      "text/plain": [
       "'101001011010010101011010000011111010010111110000'"
      ]
     },
     "execution_count": 9,
     "metadata": {},
     "output_type": "execute_result"
    }
   ],
   "source": [
    "def bitsSequence(encodedBits):\n",
    "    '''The following function saves the combined sequence to a new txt file'''\n",
    "    for x in range(len(encodedBits)):\n",
    "        encodedBits[x] = [str(x) for x in encodedBits[x]]\n",
    "    allBlocks = ''\n",
    "    for x in encodedBits:\n",
    "        for values in x:\n",
    "            allBlocks+=values\n",
    "    f = open('hamming74.txt','w')\n",
    "    f.write(allBlocks)\n",
    "    f.close()\n",
    "    return allBlocks\n",
    "bits = bitsSequence(encoded)\n",
    "bits"
   ]
  }
 ],
 "metadata": {
  "kernelspec": {
   "display_name": "Python 3",
   "language": "python",
   "name": "python3"
  },
  "language_info": {
   "codemirror_mode": {
    "name": "ipython",
    "version": 3
   },
   "file_extension": ".py",
   "mimetype": "text/x-python",
   "name": "python",
   "nbconvert_exporter": "python",
   "pygments_lexer": "ipython3",
   "version": "3.8.3"
  }
 },
 "nbformat": 4,
 "nbformat_minor": 4
}
