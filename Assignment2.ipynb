{
 "cells": [
  {
   "cell_type": "code",
   "execution_count": 1,
   "metadata": {},
   "outputs": [],
   "source": [
    "def reads(file):\n",
    "    '''Given function reads only txt file and returns the splitted words from txt'''\n",
    "    # Checking if the text is txt format\n",
    "    if file.endswith('.txt'):\n",
    "        # Open the text\n",
    "        f = open(file)\n",
    "        # reading the file\n",
    "        reading = f.read()\n",
    "        # getting the number of spaces\n",
    "        space_num = reading.count(' ')\n",
    "        # Dividing the file for separate words\n",
    "        splits = reading.split()\n",
    "        # appending the spaces for the list by its frequency\n",
    "        splits.append(' ' * space_num)\n",
    "        # Closing the file\n",
    "        f.close()\n",
    "        # returning the list with words\n",
    "        return splits\n",
    "    else:\n",
    "        return 'It should be txt file'\n",
    "work_list = reads('q1_file.txt')"
   ]
  },
  {
   "cell_type": "code",
   "execution_count": 2,
   "metadata": {},
   "outputs": [
    {
     "name": "stdout",
     "output_type": "stream",
     "text": [
      "{'S': 2, 'o': 458, 'm': 149, 'e': 725, 'n': 407, 'u': 181, 's': 320, 't': 569, 'h': 426, 'a': 470, 'v': 57, 'b': 97, 'l': 248, 'i': 373, 'g': 124, 'J': 1, 'f': 102, 'K': 17, '.': 72, ',': 100, 'k': 56, 'w': 180, 'd': 254, 'r': 290, 'E': 1, 'y': 146, 'M': 5, 'G': 6, 'c': 123, \"'\": 33, '-': 13, 'T': 15, 'p': 84, 'q': 8, 'H': 8, '\"': 42, 'W': 4, '?': 10, 'Y': 4, 'A': 5, 'j': 6, 'I': 15, 'x': 5, 'D': 2, 'P': 2, '!': 1, 'F': 5, 'z': 5, 'N': 1, 'B': 1, ';': 1, ' ': 1378}\n"
     ]
    }
   ],
   "source": [
    "def occurence(lists):\n",
    "    '''Given function works with lists and returns the dictionary with the frequency of the characters'''\n",
    "    # Checking if the variable is list format\n",
    "    if isinstance(lists,list):\n",
    "        # creating dict variable for dictionary\n",
    "        dictionary = {}\n",
    "        for x in lists:\n",
    "            # getting the separate characters from the words\n",
    "            character = list(x)\n",
    "            # counting the characters by their appearence\n",
    "            for char in character:\n",
    "                if char in dictionary:\n",
    "                    dictionary[char]+=1\n",
    "                else:\n",
    "                    dictionary[char]=1\n",
    "        # returning the dictionary variable\n",
    "        return dictionary\n",
    "    else:\n",
    "        return 'It should be list'\n",
    "dicts = occurence(work_list)\n",
    "print(dicts)"
   ]
  },
  {
   "cell_type": "code",
   "execution_count": 3,
   "metadata": {},
   "outputs": [
    {
     "name": "stdout",
     "output_type": "stream",
     "text": [
      "7607\n",
      "S - 0.0003\n"
     ]
    }
   ],
   "source": [
    "def probability(dictionary,symbol = None):\n",
    "    if dictionary.get(symbol)!=None:\n",
    "        sums = sum(dictionary.values())\n",
    "        print(sums)\n",
    "        for key,value in dictionary.items():\n",
    "            if symbol==key:\n",
    "                prob = round(value/sums,4)\n",
    "                print(key,'-',prob)\n",
    "    else:\n",
    "        sums = sum(dictionary.values())\n",
    "        for key,value in dictionary.items():\n",
    "            prob = round(value/sums,4)\n",
    "            print(key,' - ',prob)\n",
    "probabilities_tuple = probability(dicts,'S')"
   ]
  },
  {
   "cell_type": "code",
   "execution_count": 4,
   "metadata": {},
   "outputs": [],
   "source": [
    "def probability(dictionary):\n",
    "    '''The given function returns the probability of characters which divides\n",
    "    the values of characters by the overall character sum'''\n",
    "    # checking whether variable is dict format\n",
    "    lists = []\n",
    "    if isinstance(dictionary,dict):\n",
    "        # getting the overall frequency of characters\n",
    "        sums = sum(dictionary.values())\n",
    "        # working with keys and values of dictionary\n",
    "        for key,value in dictionary.items():\n",
    "            # getting the probability\n",
    "            prob = round(value/sums,4)\n",
    "            # appending the probabilities\n",
    "            lists.append((key,prob))\n",
    "        return lists\n",
    "    else:\n",
    "        return ('It should be in dictionary format')\n",
    "probabilities_list = probability(dicts)"
   ]
  },
  {
   "cell_type": "code",
   "execution_count": 5,
   "metadata": {},
   "outputs": [
    {
     "name": "stdout",
     "output_type": "stream",
     "text": [
      "  - 0.1811\n",
      "e - 0.0953\n",
      "t - 0.0748\n",
      "a - 0.0618\n",
      "o - 0.0602\n",
      "h - 0.056\n",
      "n - 0.0535\n",
      "i - 0.049\n",
      "s - 0.0421\n",
      "r - 0.0381\n",
      "d - 0.0334\n",
      "l - 0.0326\n",
      "u - 0.0238\n",
      "w - 0.0237\n",
      "m - 0.0196\n",
      "y - 0.0192\n",
      "g - 0.0163\n",
      "c - 0.0162\n",
      "f - 0.0134\n",
      ", - 0.0131\n",
      "b - 0.0128\n",
      "p - 0.011\n",
      ". - 0.0095\n",
      "v - 0.0075\n",
      "k - 0.0074\n",
      "\" - 0.0055\n",
      "' - 0.0043\n",
      "K - 0.0022\n",
      "T - 0.002\n",
      "I - 0.002\n",
      "- - 0.0017\n",
      "? - 0.0013\n",
      "q - 0.0011\n",
      "H - 0.0011\n",
      "G - 0.0008\n",
      "j - 0.0008\n",
      "M - 0.0007\n",
      "A - 0.0007\n",
      "x - 0.0007\n",
      "F - 0.0007\n",
      "z - 0.0007\n",
      "W - 0.0005\n",
      "Y - 0.0005\n",
      "S - 0.0003\n",
      "D - 0.0003\n",
      "P - 0.0003\n",
      "J - 0.0001\n",
      "E - 0.0001\n",
      "! - 0.0001\n",
      "N - 0.0001\n",
      "B - 0.0001\n",
      "; - 0.0001\n"
     ]
    }
   ],
   "source": [
    "def sorted_prob(lists):\n",
    "    # sorting the elements in descending order\n",
    "    desc = sorted(lists,key = lambda x: x[1],reverse = True)\n",
    "    # showing the result\n",
    "    for key,probability in desc:\n",
    "        print(key,'-',probability)\n",
    "result = sorted_prob(probabilities_list)\n",
    "result"
   ]
  },
  {
   "cell_type": "code",
   "execution_count": null,
   "metadata": {},
   "outputs": [],
   "source": []
  },
  {
   "cell_type": "code",
   "execution_count": null,
   "metadata": {},
   "outputs": [],
   "source": []
  }
 ],
 "metadata": {
  "kernelspec": {
   "display_name": "Python 3",
   "language": "python",
   "name": "python3"
  },
  "language_info": {
   "codemirror_mode": {
    "name": "ipython",
    "version": 3
   },
   "file_extension": ".py",
   "mimetype": "text/x-python",
   "name": "python",
   "nbconvert_exporter": "python",
   "pygments_lexer": "ipython3",
   "version": "3.8.3"
  }
 },
 "nbformat": 4,
 "nbformat_minor": 4
}
